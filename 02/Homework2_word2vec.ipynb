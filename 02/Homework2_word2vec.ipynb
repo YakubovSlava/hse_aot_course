{
 "cells": [
  {
   "cell_type": "code",
   "execution_count": 1,
   "metadata": {
    "ExecuteTime": {
     "end_time": "2023-11-21T20:56:13.069856Z",
     "start_time": "2023-11-21T20:56:11.653699Z"
    }
   },
   "outputs": [],
   "source": [
    "import json\n",
    "import random\n",
    "from tqdm import tqdm\n",
    "import numpy as np\n",
    "\n",
    "from matplotlib import pyplot as plt\n",
    "from sklearn.manifold import TSNE\n",
    "\n",
    "import torch\n",
    "\n",
    "from pylab import rcParams\n",
    "rcParams['figure.figsize'] = 15, 15"
   ]
  },
  {
   "cell_type": "markdown",
   "metadata": {},
   "source": [
    "# Что делать?\n",
    "Где есть пометка # CODE писать код\n",
    "\n",
    "[Полезный туториал](http://jalammar.github.io/illustrated-word2vec/)"
   ]
  },
  {
   "cell_type": "markdown",
   "metadata": {},
   "source": [
    "# Загружаем данные\n",
    "Они уже обработанные и токенизированные. Процесс можно посмотреть в тетрадке 1.1 Processing corpus"
   ]
  },
  {
   "cell_type": "code",
   "execution_count": 2,
   "metadata": {
    "ExecuteTime": {
     "end_time": "2023-11-21T20:56:13.224123Z",
     "start_time": "2023-11-21T20:56:13.030031Z"
    }
   },
   "outputs": [],
   "source": [
    "with open('data/processed_corpus.json') as f:\n",
    "    corpus = json.load(f)"
   ]
  },
  {
   "cell_type": "code",
   "execution_count": 3,
   "metadata": {
    "ExecuteTime": {
     "end_time": "2023-11-21T20:56:13.224487Z",
     "start_time": "2023-11-21T20:56:13.169646Z"
    }
   },
   "outputs": [
    {
     "data": {
      "text/plain": "100000"
     },
     "execution_count": 3,
     "metadata": {},
     "output_type": "execute_result"
    }
   ],
   "source": [
    "len(corpus)"
   ]
  },
  {
   "cell_type": "code",
   "execution_count": 4,
   "metadata": {
    "ExecuteTime": {
     "end_time": "2023-11-21T20:56:13.224572Z",
     "start_time": "2023-11-21T20:56:13.172338Z"
    }
   },
   "outputs": [
    {
     "name": "stdout",
     "output_type": "stream",
     "text": [
      "второй UNK год окончательно разочаровать решить податься альфабанк\n",
      "вернуть денежный средство лицевой счёт либо зачесть счёт погашение кредит\n",
      "притом ситуация решиться участие течение сутки заявить\n",
      "мой ##число летний жизнь это самый неповоротливый работник банк который видеть\n",
      "везде написать вклад принимать очередь это\n"
     ]
    }
   ],
   "source": [
    "for text in corpus[:5]:\n",
    "    print(' '.join(text))"
   ]
  },
  {
   "cell_type": "markdown",
   "metadata": {},
   "source": [
    "# CBOW"
   ]
  },
  {
   "cell_type": "code",
   "execution_count": 5,
   "metadata": {
    "ExecuteTime": {
     "end_time": "2023-11-21T20:56:13.224606Z",
     "start_time": "2023-11-21T20:56:13.175259Z"
    }
   },
   "outputs": [],
   "source": [
    "sample_text = corpus[1]"
   ]
  },
  {
   "cell_type": "code",
   "execution_count": 6,
   "metadata": {
    "ExecuteTime": {
     "end_time": "2023-11-21T20:56:13.224666Z",
     "start_time": "2023-11-21T20:56:13.177465Z"
    }
   },
   "outputs": [
    {
     "data": {
      "text/plain": "'вернуть денежный средство лицевой счёт либо зачесть счёт погашение кредит'"
     },
     "execution_count": 6,
     "metadata": {},
     "output_type": "execute_result"
    }
   ],
   "source": [
    "' '.join(sample_text)"
   ]
  },
  {
   "cell_type": "code",
   "execution_count": 7,
   "outputs": [
    {
     "data": {
      "text/plain": "['вернуть',\n 'денежный',\n 'средство',\n 'лицевой',\n 'счёт',\n 'либо',\n 'зачесть',\n 'счёт',\n 'погашение',\n 'кредит']"
     },
     "execution_count": 7,
     "metadata": {},
     "output_type": "execute_result"
    }
   ],
   "source": [
    "sample_text"
   ],
   "metadata": {
    "collapsed": false,
    "ExecuteTime": {
     "end_time": "2023-11-21T20:56:13.224848Z",
     "start_time": "2023-11-21T20:56:13.180482Z"
    }
   }
  },
  {
   "cell_type": "markdown",
   "metadata": {},
   "source": [
    "# Реализуйте разделение предложения на примеры методом CBOW"
   ]
  },
  {
   "cell_type": "code",
   "execution_count": 8,
   "metadata": {
    "ExecuteTime": {
     "end_time": "2023-11-21T20:56:13.224920Z",
     "start_time": "2023-11-21T20:56:13.184589Z"
    }
   },
   "outputs": [],
   "source": [
    "def cbow_split(tokens, window, pad_token='PAD'):\n",
    "    \n",
    "    splits = []\n",
    "\n",
    "    padding = [pad_token] * window\n",
    "    padded_tokens = padding + tokens + padding\n",
    "    for i in range(window, len(padded_tokens)-window):\n",
    "        central_word = padded_tokens[i]\n",
    "        left_window = padded_tokens[i-window: i]\n",
    "        right_window = padded_tokens[i+1: i+window+1]\n",
    "        print(central_word, left_window, right_window)\n",
    "        splits.append((left_window, central_word, right_window))\n",
    "    return splits"
   ]
  },
  {
   "cell_type": "code",
   "execution_count": 9,
   "metadata": {
    "ExecuteTime": {
     "end_time": "2023-11-21T20:56:13.225109Z",
     "start_time": "2023-11-21T20:56:13.187284Z"
    }
   },
   "outputs": [
    {
     "name": "stdout",
     "output_type": "stream",
     "text": [
      "вернуть ['PAD', 'PAD'] ['денежный', 'средство']\n",
      "денежный ['PAD', 'вернуть'] ['средство', 'лицевой']\n",
      "средство ['вернуть', 'денежный'] ['лицевой', 'счёт']\n",
      "лицевой ['денежный', 'средство'] ['счёт', 'либо']\n",
      "счёт ['средство', 'лицевой'] ['либо', 'зачесть']\n",
      "либо ['лицевой', 'счёт'] ['зачесть', 'счёт']\n",
      "зачесть ['счёт', 'либо'] ['счёт', 'погашение']\n",
      "счёт ['либо', 'зачесть'] ['погашение', 'кредит']\n",
      "погашение ['зачесть', 'счёт'] ['кредит', 'PAD']\n",
      "кредит ['счёт', 'погашение'] ['PAD', 'PAD']\n"
     ]
    }
   ],
   "source": [
    "splits = cbow_split(sample_text, window=2)"
   ]
  },
  {
   "cell_type": "code",
   "execution_count": 10,
   "metadata": {
    "ExecuteTime": {
     "end_time": "2023-11-21T20:56:13.289535Z",
     "start_time": "2023-11-21T20:56:13.215120Z"
    }
   },
   "outputs": [
    {
     "name": "stdout",
     "output_type": "stream",
     "text": [
      "Левый контекст: ['PAD', 'PAD']\n",
      "Центральное слово: вернуть\n",
      "Правый контекст: ['денежный', 'средство']\n",
      "\n",
      "Левый контекст: ['PAD', 'вернуть']\n",
      "Центральное слово: денежный\n",
      "Правый контекст: ['средство', 'лицевой']\n",
      "\n",
      "Левый контекст: ['вернуть', 'денежный']\n",
      "Центральное слово: средство\n",
      "Правый контекст: ['лицевой', 'счёт']\n",
      "\n",
      "Левый контекст: ['денежный', 'средство']\n",
      "Центральное слово: лицевой\n",
      "Правый контекст: ['счёт', 'либо']\n",
      "\n",
      "Левый контекст: ['средство', 'лицевой']\n",
      "Центральное слово: счёт\n",
      "Правый контекст: ['либо', 'зачесть']\n",
      "\n",
      "Левый контекст: ['лицевой', 'счёт']\n",
      "Центральное слово: либо\n",
      "Правый контекст: ['зачесть', 'счёт']\n",
      "\n",
      "Левый контекст: ['счёт', 'либо']\n",
      "Центральное слово: зачесть\n",
      "Правый контекст: ['счёт', 'погашение']\n",
      "\n",
      "Левый контекст: ['либо', 'зачесть']\n",
      "Центральное слово: счёт\n",
      "Правый контекст: ['погашение', 'кредит']\n",
      "\n",
      "Левый контекст: ['зачесть', 'счёт']\n",
      "Центральное слово: погашение\n",
      "Правый контекст: ['кредит', 'PAD']\n",
      "\n",
      "Левый контекст: ['счёт', 'погашение']\n",
      "Центральное слово: кредит\n",
      "Правый контекст: ['PAD', 'PAD']\n",
      "\n"
     ]
    }
   ],
   "source": [
    "for sample in splits:\n",
    "    print('Левый контекст:', sample[0])\n",
    "    print('Центральное слово:', sample[1])\n",
    "    print('Правый контекст:', sample[2], end='\\n\\n')"
   ]
  },
  {
   "cell_type": "code",
   "execution_count": 11,
   "metadata": {
    "ExecuteTime": {
     "end_time": "2023-11-21T20:56:13.443609Z",
     "start_time": "2023-11-21T20:56:13.268829Z"
    }
   },
   "outputs": [
    {
     "data": {
      "text/plain": "[(['PAD', 'PAD'], 'вернуть', ['денежный', 'средство']),\n (['PAD', 'вернуть'], 'денежный', ['средство', 'лицевой']),\n (['вернуть', 'денежный'], 'средство', ['лицевой', 'счёт']),\n (['денежный', 'средство'], 'лицевой', ['счёт', 'либо']),\n (['средство', 'лицевой'], 'счёт', ['либо', 'зачесть']),\n (['лицевой', 'счёт'], 'либо', ['зачесть', 'счёт']),\n (['счёт', 'либо'], 'зачесть', ['счёт', 'погашение']),\n (['либо', 'зачесть'], 'счёт', ['погашение', 'кредит']),\n (['зачесть', 'счёт'], 'погашение', ['кредит', 'PAD']),\n (['счёт', 'погашение'], 'кредит', ['PAD', 'PAD'])]"
     },
     "execution_count": 11,
     "metadata": {},
     "output_type": "execute_result"
    }
   ],
   "source": [
    "splits"
   ]
  },
  {
   "cell_type": "markdown",
   "metadata": {},
   "source": [
    "# Expected\n",
    "\n",
    "```python\n",
    "[(['PAD', 'PAD'], 'вопрос', ['почему', 'например']),\n",
    " (['PAD', 'вопрос'], 'почему', ['например', 'китайский']),\n",
    " (['вопрос', 'почему'], 'например', ['китайский', 'японский']),\n",
    " (['почему', 'например'], 'китайский', ['японский', 'UNK']),\n",
    " (['например', 'китайский'], 'японский', ['UNK', 'PAD']),\n",
    " (['китайский', 'японский'], 'UNK', ['PAD', 'PAD'])]\n",
    "```"
   ]
  },
  {
   "cell_type": "code",
   "execution_count": 12,
   "metadata": {
    "ExecuteTime": {
     "end_time": "2023-11-21T20:56:13.650224Z",
     "start_time": "2023-11-21T20:56:13.508677Z"
    }
   },
   "outputs": [
    {
     "name": "stdout",
     "output_type": "stream",
     "text": [
      "вернуть ['PAD', 'PAD', 'PAD'] ['денежный', 'средство', 'лицевой']\n",
      "денежный ['PAD', 'PAD', 'вернуть'] ['средство', 'лицевой', 'счёт']\n",
      "средство ['PAD', 'вернуть', 'денежный'] ['лицевой', 'счёт', 'либо']\n",
      "лицевой ['вернуть', 'денежный', 'средство'] ['счёт', 'либо', 'зачесть']\n",
      "счёт ['денежный', 'средство', 'лицевой'] ['либо', 'зачесть', 'счёт']\n",
      "либо ['средство', 'лицевой', 'счёт'] ['зачесть', 'счёт', 'погашение']\n",
      "зачесть ['лицевой', 'счёт', 'либо'] ['счёт', 'погашение', 'кредит']\n",
      "счёт ['счёт', 'либо', 'зачесть'] ['погашение', 'кредит', 'PAD']\n",
      "погашение ['либо', 'зачесть', 'счёт'] ['кредит', 'PAD', 'PAD']\n",
      "кредит ['зачесть', 'счёт', 'погашение'] ['PAD', 'PAD', 'PAD']\n"
     ]
    },
    {
     "data": {
      "text/plain": "[(['PAD', 'PAD', 'PAD'], 'вернуть', ['денежный', 'средство', 'лицевой']),\n (['PAD', 'PAD', 'вернуть'], 'денежный', ['средство', 'лицевой', 'счёт']),\n (['PAD', 'вернуть', 'денежный'], 'средство', ['лицевой', 'счёт', 'либо']),\n (['вернуть', 'денежный', 'средство'], 'лицевой', ['счёт', 'либо', 'зачесть']),\n (['денежный', 'средство', 'лицевой'], 'счёт', ['либо', 'зачесть', 'счёт']),\n (['средство', 'лицевой', 'счёт'], 'либо', ['зачесть', 'счёт', 'погашение']),\n (['лицевой', 'счёт', 'либо'], 'зачесть', ['счёт', 'погашение', 'кредит']),\n (['счёт', 'либо', 'зачесть'], 'счёт', ['погашение', 'кредит', 'PAD']),\n (['либо', 'зачесть', 'счёт'], 'погашение', ['кредит', 'PAD', 'PAD']),\n (['зачесть', 'счёт', 'погашение'], 'кредит', ['PAD', 'PAD', 'PAD'])]"
     },
     "execution_count": 12,
     "metadata": {},
     "output_type": "execute_result"
    }
   ],
   "source": [
    "cbow_split(sample_text, window=3)"
   ]
  },
  {
   "cell_type": "markdown",
   "metadata": {},
   "source": [
    "# Expected\n",
    "\n",
    "```python\n",
    "[(['PAD', 'PAD', 'PAD'], 'вопрос', ['почему', 'например', 'китайский']),\n",
    " (['PAD', 'PAD', 'вопрос'], 'почему', ['например', 'китайский', 'японский']),\n",
    " (['PAD', 'вопрос', 'почему'], 'например', ['китайский', 'японский', 'UNK']),\n",
    " (['вопрос', 'почему', 'например'], 'китайский', ['японский', 'UNK', 'PAD']),\n",
    " (['почему', 'например', 'китайский'], 'японский', ['UNK', 'PAD', 'PAD']),\n",
    " (['например', 'китайский', 'японский'], 'UNK', ['PAD', 'PAD', 'PAD'])]\n",
    "```"
   ]
  },
  {
   "cell_type": "markdown",
   "metadata": {},
   "source": [
    "# Skipgram"
   ]
  },
  {
   "cell_type": "code",
   "execution_count": 13,
   "metadata": {
    "ExecuteTime": {
     "end_time": "2023-11-21T20:56:14.463979Z",
     "start_time": "2023-11-21T20:56:14.393963Z"
    }
   },
   "outputs": [
    {
     "data": {
      "text/plain": "'вернуть денежный средство лицевой счёт либо зачесть счёт погашение кредит'"
     },
     "execution_count": 13,
     "metadata": {},
     "output_type": "execute_result"
    }
   ],
   "source": [
    "' '.join(sample_text)"
   ]
  },
  {
   "cell_type": "markdown",
   "metadata": {},
   "source": [
    "# Реализуйте разделение предложения на примеры методом Skipgram"
   ]
  },
  {
   "cell_type": "code",
   "execution_count": 14,
   "metadata": {
    "ExecuteTime": {
     "end_time": "2023-11-21T20:56:14.787086Z",
     "start_time": "2023-11-21T20:56:14.774858Z"
    }
   },
   "outputs": [],
   "source": [
    "def skipgram_split(tokens, window):\n",
    "    \n",
    "    splits = []\n",
    "    \n",
    "    for i in range(len(tokens)):\n",
    "        context = tokens[max(0, i-window): i] + tokens[i+1: i+window+1]\n",
    "        for w in context:\n",
    "            splits.append((w, tokens[i]))\n",
    "    return splits"
   ]
  },
  {
   "cell_type": "code",
   "execution_count": 15,
   "metadata": {
    "ExecuteTime": {
     "end_time": "2023-11-21T20:56:15.050620Z",
     "start_time": "2023-11-21T20:56:15.037129Z"
    }
   },
   "outputs": [],
   "source": [
    "splits = skipgram_split(sample_text, window=2)"
   ]
  },
  {
   "cell_type": "code",
   "execution_count": 16,
   "metadata": {
    "ExecuteTime": {
     "end_time": "2023-11-21T20:56:15.233596Z",
     "start_time": "2023-11-21T20:56:15.221045Z"
    }
   },
   "outputs": [
    {
     "name": "stdout",
     "output_type": "stream",
     "text": [
      "Контекст: денежный\n",
      "Центральное слово: вернуть\n",
      "\n",
      "Контекст: средство\n",
      "Центральное слово: вернуть\n",
      "\n",
      "Контекст: вернуть\n",
      "Центральное слово: денежный\n",
      "\n",
      "Контекст: средство\n",
      "Центральное слово: денежный\n",
      "\n",
      "Контекст: лицевой\n",
      "Центральное слово: денежный\n",
      "\n",
      "Контекст: вернуть\n",
      "Центральное слово: средство\n",
      "\n",
      "Контекст: денежный\n",
      "Центральное слово: средство\n",
      "\n",
      "Контекст: лицевой\n",
      "Центральное слово: средство\n",
      "\n",
      "Контекст: счёт\n",
      "Центральное слово: средство\n",
      "\n",
      "Контекст: денежный\n",
      "Центральное слово: лицевой\n",
      "\n",
      "Контекст: средство\n",
      "Центральное слово: лицевой\n",
      "\n",
      "Контекст: счёт\n",
      "Центральное слово: лицевой\n",
      "\n",
      "Контекст: либо\n",
      "Центральное слово: лицевой\n",
      "\n",
      "Контекст: средство\n",
      "Центральное слово: счёт\n",
      "\n",
      "Контекст: лицевой\n",
      "Центральное слово: счёт\n",
      "\n",
      "Контекст: либо\n",
      "Центральное слово: счёт\n",
      "\n",
      "Контекст: зачесть\n",
      "Центральное слово: счёт\n",
      "\n",
      "Контекст: лицевой\n",
      "Центральное слово: либо\n",
      "\n",
      "Контекст: счёт\n",
      "Центральное слово: либо\n",
      "\n",
      "Контекст: зачесть\n",
      "Центральное слово: либо\n",
      "\n",
      "Контекст: счёт\n",
      "Центральное слово: либо\n",
      "\n",
      "Контекст: счёт\n",
      "Центральное слово: зачесть\n",
      "\n",
      "Контекст: либо\n",
      "Центральное слово: зачесть\n",
      "\n",
      "Контекст: счёт\n",
      "Центральное слово: зачесть\n",
      "\n",
      "Контекст: погашение\n",
      "Центральное слово: зачесть\n",
      "\n",
      "Контекст: либо\n",
      "Центральное слово: счёт\n",
      "\n",
      "Контекст: зачесть\n",
      "Центральное слово: счёт\n",
      "\n",
      "Контекст: погашение\n",
      "Центральное слово: счёт\n",
      "\n",
      "Контекст: кредит\n",
      "Центральное слово: счёт\n",
      "\n",
      "Контекст: зачесть\n",
      "Центральное слово: погашение\n",
      "\n",
      "Контекст: счёт\n",
      "Центральное слово: погашение\n",
      "\n",
      "Контекст: кредит\n",
      "Центральное слово: погашение\n",
      "\n",
      "Контекст: счёт\n",
      "Центральное слово: кредит\n",
      "\n",
      "Контекст: погашение\n",
      "Центральное слово: кредит\n",
      "\n"
     ]
    }
   ],
   "source": [
    "for sample in splits:\n",
    "    print('Контекст:', sample[0])\n",
    "    print('Центральное слово:', sample[1], end='\\n\\n')"
   ]
  },
  {
   "cell_type": "code",
   "execution_count": 17,
   "metadata": {
    "ExecuteTime": {
     "end_time": "2023-11-21T20:56:15.691472Z",
     "start_time": "2023-11-21T20:56:15.616088Z"
    }
   },
   "outputs": [
    {
     "data": {
      "text/plain": "[('денежный', 'вернуть'),\n ('средство', 'вернуть'),\n ('вернуть', 'денежный'),\n ('средство', 'денежный'),\n ('лицевой', 'денежный'),\n ('вернуть', 'средство'),\n ('денежный', 'средство'),\n ('лицевой', 'средство'),\n ('счёт', 'средство'),\n ('денежный', 'лицевой'),\n ('средство', 'лицевой'),\n ('счёт', 'лицевой'),\n ('либо', 'лицевой'),\n ('средство', 'счёт'),\n ('лицевой', 'счёт'),\n ('либо', 'счёт'),\n ('зачесть', 'счёт'),\n ('лицевой', 'либо'),\n ('счёт', 'либо'),\n ('зачесть', 'либо'),\n ('счёт', 'либо'),\n ('счёт', 'зачесть'),\n ('либо', 'зачесть'),\n ('счёт', 'зачесть'),\n ('погашение', 'зачесть'),\n ('либо', 'счёт'),\n ('зачесть', 'счёт'),\n ('погашение', 'счёт'),\n ('кредит', 'счёт'),\n ('зачесть', 'погашение'),\n ('счёт', 'погашение'),\n ('кредит', 'погашение'),\n ('счёт', 'кредит'),\n ('погашение', 'кредит')]"
     },
     "execution_count": 17,
     "metadata": {},
     "output_type": "execute_result"
    }
   ],
   "source": [
    "skipgram_split(sample_text, window=2)"
   ]
  },
  {
   "cell_type": "markdown",
   "metadata": {},
   "source": [
    "# Expected\n",
    "\n",
    "```python\n",
    "[('почему', 'вопрос'),\n",
    " ('например', 'вопрос'),\n",
    " ('вопрос', 'почему'),\n",
    " ('например', 'почему'),\n",
    " ('китайский', 'почему'),\n",
    " ('вопрос', 'например'),\n",
    " ('почему', 'например'),\n",
    " ('китайский', 'например'),\n",
    " ('японский', 'например'),\n",
    " ('почему', 'китайский'),\n",
    " ('например', 'китайский'),\n",
    " ('японский', 'китайский'),\n",
    " ('UNK', 'китайский'),\n",
    " ('например', 'японский'),\n",
    " ('китайский', 'японский'),\n",
    " ('UNK', 'японский'),\n",
    " ('китайский', 'UNK'),\n",
    " ('японский', 'UNK')]\n",
    "```"
   ]
  },
  {
   "cell_type": "code",
   "execution_count": 18,
   "metadata": {
    "ExecuteTime": {
     "end_time": "2023-11-21T20:56:16.097576Z",
     "start_time": "2023-11-21T20:56:16.069609Z"
    }
   },
   "outputs": [
    {
     "data": {
      "text/plain": "[('денежный', 'вернуть'),\n ('средство', 'вернуть'),\n ('лицевой', 'вернуть'),\n ('вернуть', 'денежный'),\n ('средство', 'денежный'),\n ('лицевой', 'денежный'),\n ('счёт', 'денежный'),\n ('вернуть', 'средство'),\n ('денежный', 'средство'),\n ('лицевой', 'средство'),\n ('счёт', 'средство'),\n ('либо', 'средство'),\n ('вернуть', 'лицевой'),\n ('денежный', 'лицевой'),\n ('средство', 'лицевой'),\n ('счёт', 'лицевой'),\n ('либо', 'лицевой'),\n ('зачесть', 'лицевой'),\n ('денежный', 'счёт'),\n ('средство', 'счёт'),\n ('лицевой', 'счёт'),\n ('либо', 'счёт'),\n ('зачесть', 'счёт'),\n ('счёт', 'счёт'),\n ('средство', 'либо'),\n ('лицевой', 'либо'),\n ('счёт', 'либо'),\n ('зачесть', 'либо'),\n ('счёт', 'либо'),\n ('погашение', 'либо'),\n ('лицевой', 'зачесть'),\n ('счёт', 'зачесть'),\n ('либо', 'зачесть'),\n ('счёт', 'зачесть'),\n ('погашение', 'зачесть'),\n ('кредит', 'зачесть'),\n ('счёт', 'счёт'),\n ('либо', 'счёт'),\n ('зачесть', 'счёт'),\n ('погашение', 'счёт'),\n ('кредит', 'счёт'),\n ('либо', 'погашение'),\n ('зачесть', 'погашение'),\n ('счёт', 'погашение'),\n ('кредит', 'погашение'),\n ('зачесть', 'кредит'),\n ('счёт', 'кредит'),\n ('погашение', 'кредит')]"
     },
     "execution_count": 18,
     "metadata": {},
     "output_type": "execute_result"
    }
   ],
   "source": [
    "skipgram_split(sample_text, window=3)"
   ]
  },
  {
   "cell_type": "markdown",
   "metadata": {},
   "source": [
    "# Expected\n",
    "\n",
    "```python\n",
    "[('почему', 'вопрос'),\n",
    " ('например', 'вопрос'),\n",
    " ('китайский', 'вопрос'),\n",
    " ('вопрос', 'почему'),\n",
    " ('например', 'почему'),\n",
    " ('китайский', 'почему'),\n",
    " ('японский', 'почему'),\n",
    " ('вопрос', 'например'),\n",
    " ('почему', 'например'),\n",
    " ('китайский', 'например'),\n",
    " ('японский', 'например'),\n",
    " ('UNK', 'например'),\n",
    " ('вопрос', 'китайский'),\n",
    " ('почему', 'китайский'),\n",
    " ('например', 'китайский'),\n",
    " ('японский', 'китайский'),\n",
    " ('UNK', 'китайский'),\n",
    " ('почему', 'японский'),\n",
    " ('например', 'японский'),\n",
    " ('китайский', 'японский'),\n",
    " ('UNK', 'японский'),\n",
    " ('например', 'UNK'),\n",
    " ('китайский', 'UNK'),\n",
    " ('японский', 'UNK')]\n",
    "```"
   ]
  },
  {
   "cell_type": "code",
   "execution_count": 19,
   "metadata": {
    "ExecuteTime": {
     "end_time": "2023-11-21T20:56:16.548549Z",
     "start_time": "2023-11-21T20:56:16.541898Z"
    }
   },
   "outputs": [],
   "source": [
    "word2index = {}\n",
    "\n",
    "for text in corpus:\n",
    "    for token in text:\n",
    "        if token not in word2index:\n",
    "            word2index[token] = len(word2index)"
   ]
  },
  {
   "cell_type": "code",
   "execution_count": 20,
   "metadata": {
    "ExecuteTime": {
     "end_time": "2023-11-21T20:56:16.694596Z",
     "start_time": "2023-11-21T20:56:16.681098Z"
    }
   },
   "outputs": [
    {
     "data": {
      "text/plain": "13076"
     },
     "execution_count": 20,
     "metadata": {},
     "output_type": "execute_result"
    }
   ],
   "source": [
    "len(word2index)"
   ]
  },
  {
   "cell_type": "code",
   "execution_count": 21,
   "metadata": {
    "ExecuteTime": {
     "end_time": "2023-11-21T20:56:16.888553Z",
     "start_time": "2023-11-21T20:56:16.875787Z"
    }
   },
   "outputs": [
    {
     "data": {
      "text/plain": "1"
     },
     "execution_count": 21,
     "metadata": {},
     "output_type": "execute_result"
    }
   ],
   "source": [
    "word2index['UNK']"
   ]
  },
  {
   "cell_type": "code",
   "execution_count": 22,
   "metadata": {
    "ExecuteTime": {
     "end_time": "2023-11-21T20:56:17.094127Z",
     "start_time": "2023-11-21T20:56:17.069792Z"
    }
   },
   "outputs": [
    {
     "data": {
      "text/plain": "[1282, 8436, 1]"
     },
     "execution_count": 22,
     "metadata": {},
     "output_type": "execute_result"
    }
   ],
   "source": [
    "[word2index[tok] if tok in word2index else word2index['UNK'] for tok in 'мама мыть рама'.split()]"
   ]
  },
  {
   "cell_type": "markdown",
   "metadata": {},
   "source": [
    "# Torch Dataset\n",
    "В торче есть очень удобная читалка данных"
   ]
  },
  {
   "cell_type": "code",
   "execution_count": 23,
   "metadata": {
    "ExecuteTime": {
     "end_time": "2023-11-21T20:56:17.442194Z",
     "start_time": "2023-11-21T20:56:17.428605Z"
    }
   },
   "outputs": [],
   "source": [
    "from torch.utils.data import Dataset, DataLoader"
   ]
  },
  {
   "cell_type": "code",
   "execution_count": 24,
   "metadata": {
    "ExecuteTime": {
     "end_time": "2023-11-21T20:56:17.779767Z",
     "start_time": "2023-11-21T20:56:17.765865Z"
    }
   },
   "outputs": [],
   "source": [
    "# игрушечный датасет\n",
    "# 121535 примера, 4 фичи, 3 класса\n",
    "some_data_x = np.random.rand(121535, 4)\n",
    "some_data_y = np.random.randint(3, size=(121535,))"
   ]
  },
  {
   "cell_type": "code",
   "execution_count": 25,
   "metadata": {
    "ExecuteTime": {
     "end_time": "2023-11-21T20:56:17.985515Z",
     "start_time": "2023-11-21T20:56:17.972597Z"
    }
   },
   "outputs": [
    {
     "data": {
      "text/plain": "array([[0.73465395, 0.79162639, 0.50560691, 0.33748241],\n       [0.86181675, 0.80532927, 0.58691927, 0.68729177],\n       [0.59695925, 0.24748604, 0.393664  , 0.35515839],\n       [0.43770426, 0.88866508, 0.26338542, 0.55068257],\n       [0.14806654, 0.3390165 , 0.75203638, 0.53026437],\n       [0.09479395, 0.47630439, 0.83070293, 0.45141636],\n       [0.35458367, 0.19126562, 0.17295842, 0.43550875],\n       [0.88751191, 0.9315599 , 0.91811352, 0.27125083],\n       [0.2894805 , 0.61137554, 0.60288675, 0.87947913],\n       [0.34561886, 0.76424358, 0.69963398, 0.60528254]])"
     },
     "execution_count": 25,
     "metadata": {},
     "output_type": "execute_result"
    }
   ],
   "source": [
    "# соверешенно игрушечный, просто цифры\n",
    "some_data_x[:10]"
   ]
  },
  {
   "cell_type": "code",
   "execution_count": 26,
   "metadata": {
    "ExecuteTime": {
     "end_time": "2023-11-21T20:56:18.237141Z",
     "start_time": "2023-11-21T20:56:18.139579Z"
    }
   },
   "outputs": [
    {
     "data": {
      "text/plain": "array([2, 2, 2, ..., 1, 1, 2])"
     },
     "execution_count": 26,
     "metadata": {},
     "output_type": "execute_result"
    }
   ],
   "source": [
    "some_data_y"
   ]
  },
  {
   "cell_type": "code",
   "execution_count": 27,
   "metadata": {
    "ExecuteTime": {
     "end_time": "2023-11-21T20:56:18.322546Z",
     "start_time": "2023-11-21T20:56:18.306793Z"
    }
   },
   "outputs": [],
   "source": [
    "class ToyDataset(Dataset):\n",
    "    \n",
    "    def __init__(self, data_x, data_y):\n",
    "        \n",
    "        super().__init__()\n",
    "        \n",
    "        self.data_x = data_x\n",
    "        self.data_y = data_y\n",
    "        \n",
    "    def __len__(self):\n",
    "        \n",
    "        # Нужно обязательно определить эту функцию\n",
    "        # Должна возвращать размер датасета\n",
    "        \n",
    "        return len(self.data_x)\n",
    "    \n",
    "    def __getitem__(self, idx):\n",
    "        \n",
    "        # Еще нужно определить этот метод\n",
    "        # То есть как мы будем доставать наши данные по индексу\n",
    "        \n",
    "        return self.data_x[idx], self.data_y[idx]"
   ]
  },
  {
   "cell_type": "code",
   "execution_count": 28,
   "metadata": {
    "ExecuteTime": {
     "end_time": "2023-11-21T20:56:18.613529Z",
     "start_time": "2023-11-21T20:56:18.593376Z"
    }
   },
   "outputs": [],
   "source": [
    "some_dataset = ToyDataset(some_data_x, some_data_y)"
   ]
  },
  {
   "cell_type": "code",
   "execution_count": 29,
   "metadata": {
    "ExecuteTime": {
     "end_time": "2023-11-21T20:56:18.807646Z",
     "start_time": "2023-11-21T20:56:18.759916Z"
    }
   },
   "outputs": [
    {
     "data": {
      "text/plain": "((array([0.09479395, 0.47630439, 0.83070293, 0.45141636]), 2),\n (array([0.77819664, 0.55304018, 0.87967321, 0.98003231]), 1))"
     },
     "execution_count": 29,
     "metadata": {},
     "output_type": "execute_result"
    }
   ],
   "source": [
    "some_dataset[5], some_dataset[467]"
   ]
  },
  {
   "cell_type": "code",
   "execution_count": 30,
   "metadata": {
    "ExecuteTime": {
     "end_time": "2023-11-21T20:56:19.191307Z",
     "start_time": "2023-11-21T20:56:19.156193Z"
    }
   },
   "outputs": [],
   "source": [
    "some_loader = DataLoader(some_dataset, batch_size=16, shuffle=True)"
   ]
  },
  {
   "cell_type": "code",
   "execution_count": 31,
   "metadata": {
    "ExecuteTime": {
     "end_time": "2023-11-21T20:56:19.374048Z",
     "start_time": "2023-11-21T20:56:19.361238Z"
    }
   },
   "outputs": [
    {
     "data": {
      "text/plain": "(16,\n tensor([[0.9249, 0.9773, 0.3535, 0.5590],\n         [0.6947, 0.7997, 0.6387, 0.7841],\n         [0.1096, 0.8432, 0.7981, 0.4168],\n         [0.7798, 0.9504, 0.5576, 0.3440],\n         [0.3248, 0.7718, 0.8196, 0.7750],\n         [0.5473, 0.2861, 0.1195, 0.3588],\n         [0.3021, 0.5587, 0.1587, 0.3318],\n         [0.1203, 0.4656, 0.5291, 0.3580],\n         [0.7517, 0.1855, 0.3692, 0.8589],\n         [0.5062, 0.8312, 0.4660, 0.9347],\n         [0.2439, 0.1992, 0.4455, 0.1540],\n         [0.0483, 0.1814, 0.7892, 0.2440],\n         [0.8127, 0.4323, 0.3426, 0.6976],\n         [0.1082, 0.0949, 0.5340, 0.4041],\n         [0.1465, 0.1233, 0.6098, 0.0687],\n         [0.0748, 0.2156, 0.5430, 0.8212]], dtype=torch.float64))"
     },
     "execution_count": 31,
     "metadata": {},
     "output_type": "execute_result"
    }
   ],
   "source": [
    "for x, y in some_loader:\n",
    "    break\n",
    "    \n",
    "len(x), x"
   ]
  },
  {
   "cell_type": "code",
   "execution_count": 32,
   "metadata": {
    "ExecuteTime": {
     "end_time": "2023-11-21T20:56:19.924137Z",
     "start_time": "2023-11-21T20:56:19.549277Z"
    }
   },
   "outputs": [
    {
     "data": {
      "text/plain": "15"
     },
     "execution_count": 32,
     "metadata": {},
     "output_type": "execute_result"
    }
   ],
   "source": [
    "for x, y in some_loader:\n",
    "    pass\n",
    "\n",
    "len(x)"
   ]
  },
  {
   "cell_type": "code",
   "execution_count": 33,
   "metadata": {
    "ExecuteTime": {
     "end_time": "2023-11-21T20:56:20.040961Z",
     "start_time": "2023-11-21T20:56:20.016914Z"
    }
   },
   "outputs": [
    {
     "data": {
      "text/plain": "15"
     },
     "execution_count": 33,
     "metadata": {},
     "output_type": "execute_result"
    }
   ],
   "source": [
    "# почему 13?\n",
    "# потому что количество наших данных нацело не делится на 16\n",
    "# и поэтому последний батч меньше 16-ти\n",
    "len(some_dataset) % 16"
   ]
  },
  {
   "cell_type": "markdown",
   "metadata": {},
   "source": [
    "# А зачем?"
   ]
  },
  {
   "cell_type": "code",
   "execution_count": 34,
   "metadata": {
    "ExecuteTime": {
     "end_time": "2023-11-21T20:56:21.087389Z",
     "start_time": "2023-11-21T20:56:21.075161Z"
    }
   },
   "outputs": [],
   "source": [
    "class ToyDataset(Dataset):\n",
    "    \n",
    "    def __init__(self, data_x, data_y):\n",
    "        \n",
    "        super().__init__()\n",
    "        \n",
    "        self.data_x = data_x\n",
    "        self.data_y = data_y\n",
    "        \n",
    "    def __len__(self):\n",
    "        \n",
    "        # Нужно обязательно определить эту функцию\n",
    "        # Должна возвращать размер датасета\n",
    "        \n",
    "        return len(self.data_x)\n",
    "    \n",
    "    @staticmethod\n",
    "    def add_pow_features(x, n=2):\n",
    "        \n",
    "        return np.concatenate([x, x ** n]) \n",
    "    \n",
    "    @staticmethod\n",
    "    def add_log_features(x):\n",
    "        \n",
    "        return np.concatenate([x, np.log(x)]) \n",
    "    \n",
    "    def __getitem__(self, idx):\n",
    "        \n",
    "        # Еще нужно определить этот метод\n",
    "        # То есть как мы будем доставать наши данные по индексу\n",
    "        \n",
    "        x = self.data_x[idx]\n",
    "        \n",
    "        # внутри датасета мы можем делать все что угодно с нашими данными\n",
    "        # например выше определим функции, которые добавляют степенные фичи\n",
    "        x = self.add_pow_features(x, n=2)\n",
    "        x = self.add_pow_features(x, n=3)\n",
    "        # и еще возьмем логарифмические фичи\n",
    "        x = self.add_log_features(x)\n",
    "        \n",
    "        y = self.data_y[idx]\n",
    "        \n",
    "        return x, y"
   ]
  },
  {
   "cell_type": "code",
   "execution_count": 35,
   "metadata": {
    "ExecuteTime": {
     "end_time": "2023-11-21T20:56:21.709680Z",
     "start_time": "2023-11-21T20:56:21.696663Z"
    }
   },
   "outputs": [],
   "source": [
    "toy_dataset = ToyDataset(some_data_x, some_data_y)"
   ]
  },
  {
   "cell_type": "code",
   "execution_count": 36,
   "metadata": {
    "ExecuteTime": {
     "end_time": "2023-11-21T20:56:21.921262Z",
     "start_time": "2023-11-21T20:56:21.908070Z"
    }
   },
   "outputs": [],
   "source": [
    "toy_loader = DataLoader(dataset=toy_dataset, batch_size=128)"
   ]
  },
  {
   "cell_type": "code",
   "execution_count": 37,
   "metadata": {
    "ExecuteTime": {
     "end_time": "2023-11-21T20:56:22.101709Z",
     "start_time": "2023-11-21T20:56:22.089231Z"
    }
   },
   "outputs": [],
   "source": [
    "for x, y in toy_loader:\n",
    "    break"
   ]
  },
  {
   "cell_type": "code",
   "execution_count": 38,
   "metadata": {
    "ExecuteTime": {
     "end_time": "2023-11-21T20:56:22.292007Z",
     "start_time": "2023-11-21T20:56:22.279622Z"
    }
   },
   "outputs": [
    {
     "data": {
      "text/plain": "torch.Size([128, 32])"
     },
     "execution_count": 38,
     "metadata": {},
     "output_type": "execute_result"
    }
   ],
   "source": [
    "x.shape"
   ]
  },
  {
   "cell_type": "code",
   "execution_count": 39,
   "metadata": {
    "ExecuteTime": {
     "end_time": "2023-11-21T20:56:22.515799Z",
     "start_time": "2023-11-21T20:56:22.502357Z"
    }
   },
   "outputs": [
    {
     "data": {
      "text/plain": "tensor([[  0.7347,   0.7916,   0.5056,  ...,  -1.4020,  -4.0920,  -6.5175],\n        [  0.8618,   0.8053,   0.5869,  ...,  -1.2990,  -3.1972,  -2.2500],\n        [  0.5970,   0.2475,   0.3937,  ...,  -8.3784,  -5.5935,  -6.2111],\n        ...,\n        [  0.8634,   0.5616,   0.2974,  ...,  -3.4620,  -7.2767, -23.7067],\n        [  0.5730,   0.2429,   0.5540,  ...,  -8.4897,  -3.5431,  -2.7262],\n        [  0.0771,   0.6404,   0.9458,  ...,  -2.6740,  -0.3344,  -1.9411]],\n       dtype=torch.float64)"
     },
     "execution_count": 39,
     "metadata": {},
     "output_type": "execute_result"
    }
   ],
   "source": [
    "# заметим, что мы сразу получаем торчовый формат данных\n",
    "x"
   ]
  },
  {
   "cell_type": "code",
   "execution_count": 40,
   "metadata": {
    "ExecuteTime": {
     "end_time": "2023-11-21T20:56:23.192296Z",
     "start_time": "2023-11-21T20:56:23.128831Z"
    }
   },
   "outputs": [
    {
     "data": {
      "text/plain": "tensor([2, 2, 2, 1, 1, 2, 0, 1, 0, 2, 0, 1, 1, 1, 1, 0, 0, 1, 2, 1, 2, 2, 0, 2,\n        0, 1, 1, 2, 2, 0, 0, 1, 2, 0, 0, 2, 1, 1, 0, 2, 0, 1, 2, 0, 2, 0, 1, 2,\n        0, 0, 0, 2, 0, 1, 1, 0, 2, 0, 2, 1, 2, 0, 0, 2, 1, 0, 0, 0, 2, 2, 1, 2,\n        1, 1, 2, 0, 0, 1, 0, 0, 0, 0, 2, 0, 0, 1, 1, 0, 0, 1, 2, 1, 2, 1, 0, 0,\n        2, 0, 1, 1, 0, 2, 0, 0, 0, 1, 0, 0, 1, 2, 2, 2, 2, 2, 1, 2, 1, 0, 0, 1,\n        2, 0, 1, 1, 0, 2, 1, 0])"
     },
     "execution_count": 40,
     "metadata": {},
     "output_type": "execute_result"
    }
   ],
   "source": [
    "y"
   ]
  },
  {
   "cell_type": "markdown",
   "metadata": {},
   "source": [
    "# Если вы ничего здесь не понимаете, то вернитесь в конец первой домашки, там все объясняется"
   ]
  },
  {
   "cell_type": "code",
   "execution_count": 41,
   "metadata": {
    "ExecuteTime": {
     "end_time": "2023-11-21T20:56:23.927042Z",
     "start_time": "2023-11-21T20:56:23.913896Z"
    }
   },
   "outputs": [],
   "source": [
    "model = torch.nn.Sequential(torch.nn.Linear(32, 16),\n",
    "                            torch.nn.ReLU(),\n",
    "                            torch.nn.Linear(16, 8),\n",
    "                            torch.nn.ReLU(),\n",
    "                            torch.nn.Linear(8, 3))\n",
    "\n",
    "criterion = torch.nn.CrossEntropyLoss()"
   ]
  },
  {
   "cell_type": "code",
   "execution_count": 42,
   "metadata": {
    "ExecuteTime": {
     "end_time": "2023-11-21T20:56:24.226676Z",
     "start_time": "2023-11-21T20:56:24.202883Z"
    }
   },
   "outputs": [
    {
     "data": {
      "text/plain": "1.3609857559204102"
     },
     "execution_count": 42,
     "metadata": {},
     "output_type": "execute_result"
    }
   ],
   "source": [
    "with torch.no_grad():\n",
    "\n",
    "    prediction = model(x.float())\n",
    "\n",
    "    loss = criterion(prediction, y)\n",
    "    \n",
    "loss.item()"
   ]
  },
  {
   "cell_type": "markdown",
   "metadata": {},
   "source": [
    "# Боевые датасеты"
   ]
  },
  {
   "cell_type": "code",
   "execution_count": 43,
   "metadata": {
    "ExecuteTime": {
     "end_time": "2023-11-21T20:56:24.782329Z",
     "start_time": "2023-11-21T20:56:24.758154Z"
    }
   },
   "outputs": [],
   "source": [
    "class CBOWDataset(Dataset):\n",
    "\n",
    "    def __init__(self,\n",
    "                 corpus,\n",
    "                 word2index,\n",
    "                 window=2,\n",
    "                 unk_token='UNK',\n",
    "                 pad_token='PAD',\n",
    "                 collect_verbose=True):\n",
    "\n",
    "        self.corpus = corpus\n",
    "        self.word2index = word2index\n",
    "        self.index2word = {value: key for key, value in self.word2index.items()}\n",
    "        self.window = window\n",
    "\n",
    "        self.unk_token = unk_token\n",
    "        self.unk_index = self.word2index[self.unk_token]\n",
    "\n",
    "        self.pad_token = pad_token\n",
    "        self.pad_index = len(self.word2index)\n",
    "\n",
    "        self.collect_verbose = collect_verbose\n",
    "\n",
    "        self.data = []\n",
    "\n",
    "        self.collect_data()\n",
    "\n",
    "    def __len__(self):\n",
    "\n",
    "        return len(self.data)\n",
    "\n",
    "    def _split_function(self, tokenized_text):\n",
    "\n",
    "        splits = []\n",
    "\n",
    "        for n in range(len(tokenized_text)):\n",
    "            left_context = tokenized_text[np.maximum(n - self.window, 0):n]\n",
    "            left_context = ([self.pad_index] * (self.window - len(left_context))) + left_context\n",
    "\n",
    "            central_word = tokenized_text[n]\n",
    "\n",
    "            right_context = tokenized_text[n + 1:n + self.window + 1]\n",
    "            right_context = right_context + ([self.pad_index] * (self.window - len(right_context)))\n",
    "\n",
    "            splits.append((left_context + right_context, central_word))\n",
    "\n",
    "        return splits\n",
    "\n",
    "    def indexing(self, tokenized_text):\n",
    "\n",
    "        return [self.word2index[token] if token in self.word2index else self.unk_index for token in tokenized_text]\n",
    "\n",
    "    def collect_data(self):\n",
    "\n",
    "        corpus = tqdm(self.corpus, disable=not self.collect_verbose)\n",
    "\n",
    "        for tokenized_text in corpus:\n",
    "            indexed_text = self.indexing(tokenized_text)\n",
    "            cbow_examples = self._split_function(indexed_text)\n",
    "\n",
    "            self.data.extend(cbow_examples)\n",
    "\n",
    "    def __getitem__(self, idx):\n",
    "\n",
    "        context, central_word = self.data[idx]\n",
    "\n",
    "        context = torch.Tensor(context).long()\n",
    "\n",
    "        return context, central_word"
   ]
  },
  {
   "cell_type": "markdown",
   "metadata": {},
   "source": [
    "# Мы будем учить модель Skipgram\n",
    "Реализуйте читалку данных"
   ]
  },
  {
   "cell_type": "code",
   "execution_count": 44,
   "metadata": {
    "ExecuteTime": {
     "end_time": "2023-11-21T20:56:26.047924Z",
     "start_time": "2023-11-21T20:56:26.036319Z"
    }
   },
   "outputs": [],
   "source": [
    "class SkipgramDataset(Dataset):\n",
    "\n",
    "    def __init__(self,\n",
    "                 corpus,\n",
    "                 word2index,\n",
    "                 window=2,\n",
    "                 unk_token='UNK',\n",
    "                 collect_verbose=True):\n",
    "\n",
    "        self.corpus = corpus\n",
    "        self.word2index = word2index\n",
    "        self.window = window\n",
    "        self.unk_token = unk_token\n",
    "        self.collect_verbose = collect_verbose\n",
    "        self.data = []\n",
    "        self.collect_data()\n",
    "\n",
    "    def __len__(self):\n",
    "\n",
    "        return len(self.data)\n",
    "\n",
    "    def _split_function(self, tokenized_text):\n",
    "        \n",
    "        splits = []\n",
    "\n",
    "        for i in range(len(tokenized_text)):\n",
    "            context = tokenized_text[max(0, i - self.window): i] + tokenized_text[i+1: i + self.window+1]\n",
    "            for w in context:\n",
    "                splits.append((w, tokenized_text[i]))\n",
    "        return splits\n",
    "\n",
    "\n",
    "    def indexing(self, tokenized_text):\n",
    "\n",
    "        return [self.word2index[token] if token in self.word2index else self.unk_index for token in tokenized_text]\n",
    "\n",
    "    def collect_data(self):\n",
    "\n",
    "        corpus = tqdm(self.corpus, disable=not self.collect_verbose)\n",
    "\n",
    "        for tokenized_text in corpus:\n",
    "            indexed_text = self.indexing(tokenized_text)\n",
    "            skipgram_examples = self._split_function(indexed_text)\n",
    "\n",
    "            self.data.extend(skipgram_examples)\n",
    "\n",
    "    def __getitem__(self, idx):\n",
    "        \n",
    "        context, central_word = self.data[idx]\n",
    "        return context, central_word"
   ]
  },
  {
   "cell_type": "code",
   "execution_count": 45,
   "metadata": {
    "ExecuteTime": {
     "end_time": "2023-11-21T20:56:26.782822Z",
     "start_time": "2023-11-21T20:56:26.768827Z"
    }
   },
   "outputs": [],
   "source": [
    "# можете положить SkipgramDataset в отдельный файлик, например word2vec_utils и относительным импортом достать его \n",
    "#from .word2vec_utils import SkipgramDataset"
   ]
  },
  {
   "cell_type": "code",
   "execution_count": 46,
   "metadata": {
    "scrolled": true,
    "ExecuteTime": {
     "end_time": "2023-11-21T20:56:27.729849Z",
     "start_time": "2023-11-21T20:56:27.016248Z"
    }
   },
   "outputs": [
    {
     "name": "stderr",
     "output_type": "stream",
     "text": [
      "100%|██████████| 100000/100000 [00:00<00:00, 149295.63it/s]\n"
     ]
    }
   ],
   "source": [
    "dataset = SkipgramDataset(corpus, word2index)"
   ]
  },
  {
   "cell_type": "code",
   "execution_count": 47,
   "outputs": [
    {
     "data": {
      "text/plain": "(1, 0)"
     },
     "execution_count": 47,
     "metadata": {},
     "output_type": "execute_result"
    }
   ],
   "source": [
    "dataset.__getitem__(0)"
   ],
   "metadata": {
    "collapsed": false,
    "ExecuteTime": {
     "end_time": "2023-11-21T20:56:27.730529Z",
     "start_time": "2023-11-21T20:56:27.697665Z"
    }
   }
  },
  {
   "cell_type": "code",
   "execution_count": 48,
   "metadata": {
    "ExecuteTime": {
     "end_time": "2023-11-21T20:56:27.730569Z",
     "start_time": "2023-11-21T20:56:27.701927Z"
    }
   },
   "outputs": [],
   "source": [
    "BATCH_SIZE = 512"
   ]
  },
  {
   "cell_type": "code",
   "execution_count": 49,
   "metadata": {
    "ExecuteTime": {
     "end_time": "2023-11-21T20:56:27.730607Z",
     "start_time": "2023-11-21T20:56:27.704290Z"
    }
   },
   "outputs": [],
   "source": [
    "dataset_loader = DataLoader(dataset, shuffle=True, batch_size=BATCH_SIZE)"
   ]
  },
  {
   "cell_type": "code",
   "execution_count": 50,
   "metadata": {
    "ExecuteTime": {
     "end_time": "2023-11-21T20:56:27.923816Z",
     "start_time": "2023-11-21T20:56:27.866777Z"
    }
   },
   "outputs": [],
   "source": [
    "for x, y in dataset_loader:\n",
    "    break"
   ]
  },
  {
   "cell_type": "code",
   "execution_count": 51,
   "metadata": {
    "ExecuteTime": {
     "end_time": "2023-11-21T20:56:28.067386Z",
     "start_time": "2023-11-21T20:56:28.039264Z"
    }
   },
   "outputs": [
    {
     "data": {
      "text/plain": "tensor([  73,  110,  219, 1541,  256])"
     },
     "execution_count": 51,
     "metadata": {},
     "output_type": "execute_result"
    }
   ],
   "source": [
    "x[:5]"
   ]
  },
  {
   "cell_type": "code",
   "execution_count": 52,
   "metadata": {
    "ExecuteTime": {
     "end_time": "2023-11-21T20:56:28.410412Z",
     "start_time": "2023-11-21T20:56:28.396377Z"
    }
   },
   "outputs": [
    {
     "data": {
      "text/plain": "tensor([  33, 8463, 1260, 1152,    1])"
     },
     "execution_count": 52,
     "metadata": {},
     "output_type": "execute_result"
    }
   ],
   "source": [
    "y[:5]"
   ]
  },
  {
   "cell_type": "code",
   "execution_count": 53,
   "metadata": {
    "ExecuteTime": {
     "end_time": "2023-11-21T20:56:28.598249Z",
     "start_time": "2023-11-21T20:56:28.585449Z"
    }
   },
   "outputs": [
    {
     "data": {
      "text/plain": "(torch.Size([512]), torch.Size([512]))"
     },
     "execution_count": 53,
     "metadata": {},
     "output_type": "execute_result"
    }
   ],
   "source": [
    "x.shape, y.shape"
   ]
  },
  {
   "cell_type": "code",
   "execution_count": 54,
   "metadata": {
    "ExecuteTime": {
     "end_time": "2023-11-21T20:56:28.806545Z",
     "start_time": "2023-11-21T20:56:28.783453Z"
    }
   },
   "outputs": [],
   "source": [
    "class CBOW(torch.nn.Module):\n",
    "    \n",
    "    def __init__(self, vocab_size, embedding_dim, pad_index):\n",
    "        \n",
    "        super().__init__()\n",
    "        \n",
    "        if pad_index > 0:\n",
    "            vocab_size += 1\n",
    "        \n",
    "        self.in_embedding = torch.nn.Embedding(num_embeddings=vocab_size, \n",
    "                                               embedding_dim=embedding_dim,\n",
    "                                               padding_idx=pad_index)\n",
    "        \n",
    "        self.out_embedding = torch.nn.Linear(in_features=embedding_dim,\n",
    "                                             out_features=vocab_size, bias=False)\n",
    "        \n",
    "    def forward(self, x):\n",
    "        \n",
    "        x = self.in_embedding(x).sum(dim=-2)\n",
    "        x = self.out_embedding(x)\n",
    "        \n",
    "        return x"
   ]
  },
  {
   "cell_type": "markdown",
   "metadata": {},
   "source": [
    "# Мы будем учить модель Skipgram\n",
    "Реализуйте ее"
   ]
  },
  {
   "cell_type": "code",
   "execution_count": 55,
   "metadata": {
    "ExecuteTime": {
     "end_time": "2023-11-21T20:56:29.222529Z",
     "start_time": "2023-11-21T20:56:29.208459Z"
    }
   },
   "outputs": [],
   "source": [
    "# CODE\n",
    "class SkipGram(torch.nn.Module):\n",
    "    def __init__(self, vocab_size, embedding_dim):\n",
    "        super().__init__()\n",
    "        # Все будет тем же самым\n",
    "        self.in_embedding = torch.nn.Embedding(num_embeddings=vocab_size,\n",
    "                                               embedding_dim=embedding_dim)\n",
    "\n",
    "        self.out_embedding = torch.nn.Linear(in_features=embedding_dim,\n",
    "                                             out_features=vocab_size, bias=False)\n",
    "\n",
    "    def forward(self, x):\n",
    "        x = self.in_embedding(x)\n",
    "        x = self.out_embedding(x)\n",
    "        return x"
   ]
  },
  {
   "cell_type": "code",
   "execution_count": 56,
   "metadata": {
    "ExecuteTime": {
     "end_time": "2023-11-21T20:56:29.793408Z",
     "start_time": "2023-11-21T20:56:29.779878Z"
    }
   },
   "outputs": [],
   "source": [
    "#from word2vec_utils import SkipGram"
   ]
  },
  {
   "cell_type": "code",
   "execution_count": 57,
   "metadata": {
    "ExecuteTime": {
     "end_time": "2023-11-21T20:56:30.007667Z",
     "start_time": "2023-11-21T20:56:29.994375Z"
    }
   },
   "outputs": [],
   "source": [
    "# размерность эмбеддинга\n",
    "# маленькая, чтобы мы могли недолго поучить ворд2век и увидеть результаты\n",
    "EMBEDDING_DIM = 20"
   ]
  },
  {
   "cell_type": "code",
   "execution_count": 58,
   "metadata": {
    "ExecuteTime": {
     "end_time": "2023-11-21T20:56:30.223839Z",
     "start_time": "2023-11-21T20:56:30.189176Z"
    }
   },
   "outputs": [],
   "source": [
    "model = SkipGram(vocab_size=len(word2index), embedding_dim=EMBEDDING_DIM)"
   ]
  },
  {
   "cell_type": "code",
   "execution_count": 59,
   "metadata": {
    "ExecuteTime": {
     "end_time": "2023-11-21T20:56:30.403165Z",
     "start_time": "2023-11-21T20:56:30.390040Z"
    }
   },
   "outputs": [
    {
     "data": {
      "text/plain": "torch.Size([512, 13076])"
     },
     "execution_count": 59,
     "metadata": {},
     "output_type": "execute_result"
    }
   ],
   "source": [
    "with torch.no_grad():\n",
    "    pred = model(x.cpu())\n",
    "\n",
    "pred.shape"
   ]
  },
  {
   "cell_type": "code",
   "execution_count": 60,
   "outputs": [
    {
     "data": {
      "text/plain": "tensor(-17.4680)"
     },
     "execution_count": 60,
     "metadata": {},
     "output_type": "execute_result"
    }
   ],
   "source": [
    "pred[0].sum()"
   ],
   "metadata": {
    "collapsed": false,
    "ExecuteTime": {
     "end_time": "2023-11-21T20:56:30.586796Z",
     "start_time": "2023-11-21T20:56:30.573238Z"
    }
   }
  },
  {
   "cell_type": "code",
   "execution_count": 61,
   "metadata": {
    "ExecuteTime": {
     "end_time": "2023-11-21T20:56:30.920367Z",
     "start_time": "2023-11-21T20:56:30.763503Z"
    }
   },
   "outputs": [],
   "source": [
    "optimizer = torch.optim.Adam(params=model.parameters(), lr=0.0001)\n",
    "\n",
    "# aka loss function\n",
    "criterion = torch.nn.CrossEntropyLoss()"
   ]
  },
  {
   "cell_type": "code",
   "execution_count": 62,
   "outputs": [
    {
     "data": {
      "text/plain": "True"
     },
     "execution_count": 62,
     "metadata": {},
     "output_type": "execute_result"
    }
   ],
   "source": [
    "torch.backends.mps.is_available()"
   ],
   "metadata": {
    "collapsed": false,
    "ExecuteTime": {
     "end_time": "2023-11-21T20:56:31.286418Z",
     "start_time": "2023-11-21T20:56:31.213133Z"
    }
   }
  },
  {
   "cell_type": "code",
   "execution_count": 63,
   "outputs": [],
   "source": [
    "device = 'cuda' if torch.cuda.is_available() else 'mps' if torch.backends.mps.is_available() else 'cpu'\n",
    "epochs = 6\n",
    "losses = []"
   ],
   "metadata": {
    "collapsed": false,
    "ExecuteTime": {
     "end_time": "2023-11-21T20:56:31.439790Z",
     "start_time": "2023-11-21T20:56:31.422489Z"
    }
   }
  },
  {
   "cell_type": "code",
   "execution_count": 64,
   "outputs": [
    {
     "data": {
      "text/plain": "SkipGram(\n  (in_embedding): Embedding(13076, 20)\n  (out_embedding): Linear(in_features=20, out_features=13076, bias=False)\n)"
     },
     "execution_count": 64,
     "metadata": {},
     "output_type": "execute_result"
    }
   ],
   "source": [
    "model.to(device)"
   ],
   "metadata": {
    "collapsed": false,
    "ExecuteTime": {
     "end_time": "2023-11-21T20:56:31.667590Z",
     "start_time": "2023-11-21T20:56:31.615658Z"
    }
   }
  },
  {
   "cell_type": "markdown",
   "metadata": {},
   "source": [
    "# Допишите обучалку"
   ]
  },
  {
   "cell_type": "code",
   "execution_count": 105,
   "metadata": {
    "ExecuteTime": {
     "end_time": "2023-11-21T20:26:28.449495Z",
     "start_time": "2023-11-21T20:22:58.925645Z"
    }
   },
   "outputs": [
    {
     "name": "stderr",
     "output_type": "stream",
     "text": [
      "Epoch 1: 100%|██████████| 2983124/2983124 [00:42<00:00, 69963.26it/s, loss=9.03]\n",
      "Epoch 2: 100%|██████████| 2983124/2983124 [00:41<00:00, 71728.22it/s, loss=8.1] \n",
      "Epoch 3: 100%|██████████| 2983124/2983124 [00:41<00:00, 71089.40it/s, loss=7.62]\n",
      "Epoch 4: 100%|██████████| 2983124/2983124 [00:41<00:00, 71674.00it/s, loss=7.38]\n",
      "Epoch 5: 100%|██████████| 2983124/2983124 [00:41<00:00, 71575.06it/s, loss=7.28]\n"
     ]
    }
   ],
   "source": [
    "for n_epoch in range(epochs):\n",
    "    try:\n",
    "        progress_bar = tqdm(total=len(dataset_loader.dataset), desc='Epoch {}'.format(n_epoch + 1))\n",
    "        for x, y in dataset_loader:\n",
    "            optimizer.zero_grad()\n",
    "\n",
    "            x = x.to(device)\n",
    "            y = y.to(device)\n",
    "            prediction = model(x)\n",
    "\n",
    "\n",
    "            loss = criterion(prediction, y)\n",
    "            loss.backward()\n",
    "            optimizer.step()\n",
    "            # CODE\n",
    "            \n",
    "            losses.append(loss.cpu().detach().numpy().item())\n",
    "            \n",
    "            progress_bar.set_postfix(loss=np.mean(losses[-100:]))\n",
    "\n",
    "            progress_bar.update(x.shape[0])\n",
    "\n",
    "        progress_bar.close()\n",
    "\n",
    "    except KeyboardInterrupt:\n",
    "\n",
    "        progress_bar.close()\n",
    "        break"
   ]
  },
  {
   "cell_type": "code",
   "execution_count": 106,
   "metadata": {
    "ExecuteTime": {
     "end_time": "2023-11-21T20:26:28.733116Z",
     "start_time": "2023-11-21T20:26:28.432650Z"
    }
   },
   "outputs": [
    {
     "data": {
      "text/plain": "[<matplotlib.lines.Line2D at 0x28aabb7f0>]"
     },
     "execution_count": 106,
     "metadata": {},
     "output_type": "execute_result"
    },
    {
     "data": {
      "text/plain": "<Figure size 1500x1500 with 1 Axes>",
      "image/png": "[encoded data removed]"
     },
     "metadata": {},
     "output_type": "display_data"
    }
   ],
   "source": [
    "plt.title('SkipGram Training Process')\n",
    "plt.xlabel('Itearations')\n",
    "plt.ylabel('Loss')\n",
    "plt.grid()\n",
    "plt.plot(losses)"
   ]
  },
  {
   "cell_type": "code",
   "execution_count": 107,
   "metadata": {
    "ExecuteTime": {
     "end_time": "2023-11-21T20:26:28.733235Z",
     "start_time": "2023-11-21T20:26:28.730905Z"
    }
   },
   "outputs": [],
   "source": [
    "# проверка, что хоть что-то выучилось\n",
    "assert np.mean(losses[-1000:]) < 7.5"
   ]
  },
  {
   "cell_type": "code",
   "execution_count": 108,
   "metadata": {
    "ExecuteTime": {
     "end_time": "2023-11-21T20:26:28.737442Z",
     "start_time": "2023-11-21T20:26:28.734894Z"
    }
   },
   "outputs": [],
   "source": [
    "embedding_matrix = model.in_embedding.weight.detach()"
   ]
  },
  {
   "cell_type": "code",
   "execution_count": 176,
   "metadata": {
    "ExecuteTime": {
     "end_time": "2023-11-21T20:41:09.059397Z",
     "start_time": "2023-11-21T20:41:09.006484Z"
    }
   },
   "outputs": [],
   "source": [
    "def cos_sim(embedding_matrix, token2id, word1, word2):\n",
    "\n",
    "    if word1 in token2id.keys() and word2 in token2id.keys():\n",
    "        i1 = token2id[word1]\n",
    "        i2 = token2id[word2]\n",
    "    else:\n",
    "        return 0\n",
    "    \n",
    "    v1, v2 = embedding_matrix[i1], embedding_matrix[i2]\n",
    "    \n",
    "    v1_n = v1.div(v1.norm(keepdim=True))\n",
    "    v2_n = v2.div(v2.norm(keepdim=True))\n",
    "    \n",
    "    similarity = torch.dot(v1_n, v2_n).item()\n",
    "    \n",
    "    return similarity"
   ]
  },
  {
   "cell_type": "markdown",
   "metadata": {},
   "source": [
    "# Косинусная близость\n",
    "От 0 до 1, где 0 - вектора абсолютно разные, где 1 - идентичные."
   ]
  },
  {
   "cell_type": "code",
   "execution_count": 123,
   "metadata": {
    "ExecuteTime": {
     "end_time": "2023-11-21T20:28:41.084457Z",
     "start_time": "2023-11-21T20:28:41.034638Z"
    }
   },
   "outputs": [
    {
     "data": {
      "text/plain": "0.3223838210105896"
     },
     "execution_count": 123,
     "metadata": {},
     "output_type": "execute_result"
    }
   ],
   "source": [
    "cos_sim(embedding_matrix, word2index, 'день', 'месяц')"
   ]
  },
  {
   "cell_type": "code",
   "execution_count": 124,
   "metadata": {
    "ExecuteTime": {
     "end_time": "2023-11-21T20:28:41.469552Z",
     "start_time": "2023-11-21T20:28:41.460333Z"
    }
   },
   "outputs": [
    {
     "data": {
      "text/plain": "0.47313567996025085"
     },
     "execution_count": 124,
     "metadata": {},
     "output_type": "execute_result"
    }
   ],
   "source": [
    "cos_sim(embedding_matrix, word2index, 'минута', 'месяц')"
   ]
  },
  {
   "cell_type": "code",
   "execution_count": 125,
   "metadata": {
    "ExecuteTime": {
     "end_time": "2023-11-21T20:28:42.436381Z",
     "start_time": "2023-11-21T20:28:42.427443Z"
    }
   },
   "outputs": [
    {
     "data": {
      "text/plain": "0.3505863845348358"
     },
     "execution_count": 125,
     "metadata": {},
     "output_type": "execute_result"
    }
   ],
   "source": [
    "cos_sim(embedding_matrix, word2index, 'сотрудник', 'сотрудница')"
   ]
  },
  {
   "cell_type": "code",
   "execution_count": 126,
   "metadata": {
    "ExecuteTime": {
     "end_time": "2023-11-21T20:28:43.883477Z",
     "start_time": "2023-11-21T20:28:43.874802Z"
    }
   },
   "outputs": [
    {
     "data": {
      "text/plain": "0.2645464539527893"
     },
     "execution_count": 126,
     "metadata": {},
     "output_type": "execute_result"
    }
   ],
   "source": [
    "cos_sim(embedding_matrix, word2index, 'вклад', 'перевод')"
   ]
  },
  {
   "cell_type": "code",
   "execution_count": 136,
   "outputs": [
    {
     "data": {
      "text/plain": "0.6259104609489441"
     },
     "execution_count": 136,
     "metadata": {},
     "output_type": "execute_result"
    }
   ],
   "source": [
    "cos_sim(embedding_matrix, word2index, 'перевод', 'доверенность')"
   ],
   "metadata": {
    "collapsed": false,
    "ExecuteTime": {
     "end_time": "2023-11-21T20:30:17.643725Z",
     "start_time": "2023-11-21T20:30:17.634468Z"
    }
   }
  },
  {
   "cell_type": "code",
   "execution_count": 127,
   "outputs": [
    {
     "data": {
      "text/plain": "-0.24225185811519623"
     },
     "execution_count": 127,
     "metadata": {},
     "output_type": "execute_result"
    }
   ],
   "source": [
    "cos_sim(embedding_matrix, word2index, 'смеяться', 'плакать')"
   ],
   "metadata": {
    "collapsed": false,
    "ExecuteTime": {
     "end_time": "2023-11-21T20:28:45.271612Z",
     "start_time": "2023-11-21T20:28:45.261155Z"
    }
   }
  },
  {
   "cell_type": "code",
   "execution_count": 131,
   "outputs": [
    {
     "data": {
      "text/plain": "-0.18007385730743408"
     },
     "execution_count": 131,
     "metadata": {},
     "output_type": "execute_result"
    }
   ],
   "source": [
    "cos_sim(embedding_matrix, word2index, 'умный', 'глупый')"
   ],
   "metadata": {
    "collapsed": false,
    "ExecuteTime": {
     "end_time": "2023-11-21T20:29:16.768326Z",
     "start_time": "2023-11-21T20:29:16.746046Z"
    }
   }
  },
  {
   "cell_type": "code",
   "execution_count": 138,
   "metadata": {
    "ExecuteTime": {
     "end_time": "2023-11-21T20:30:33.813956Z",
     "start_time": "2023-11-21T20:30:33.803580Z"
    }
   },
   "outputs": [
    {
     "data": {
      "text/plain": "'Косинусная близость слова \"день\" к случайному выбраному слову \"забыться\" равна 0.137'"
     },
     "execution_count": 138,
     "metadata": {},
     "output_type": "execute_result"
    }
   ],
   "source": [
    "random_word = random.choice(list(word2index.keys()))\n",
    "sim = cos_sim(embedding_matrix, word2index, 'день', random_word)\n",
    "'Косинусная близость слова \"день\" к случайному выбраному слову \"{}\" равна {:.3f}'.format(random_word, sim)"
   ]
  },
  {
   "cell_type": "code",
   "execution_count": 117,
   "metadata": {
    "ExecuteTime": {
     "end_time": "2023-11-21T20:26:28.992430Z",
     "start_time": "2023-11-21T20:26:28.848212Z"
    }
   },
   "outputs": [],
   "source": [
    "freq = {}\n",
    "\n",
    "for text in corpus:\n",
    "    for token in text:\n",
    "        if token in freq:\n",
    "            freq[token] += 1\n",
    "        else:\n",
    "            freq[token] = 1"
   ]
  },
  {
   "cell_type": "code",
   "execution_count": 118,
   "metadata": {
    "ExecuteTime": {
     "end_time": "2023-11-21T20:26:29.125360Z",
     "start_time": "2023-11-21T20:26:28.966700Z"
    }
   },
   "outputs": [],
   "source": [
    "sorted_freq = [(k, freq[k]) for k in sorted(freq, key=freq.get, reverse=True)]\n",
    "top_sorted_freq = sorted_freq[0:200]"
   ]
  },
  {
   "cell_type": "code",
   "execution_count": 119,
   "metadata": {
    "ExecuteTime": {
     "end_time": "2023-11-21T20:27:00.756408Z",
     "start_time": "2023-11-21T20:26:28.974117Z"
    }
   },
   "outputs": [
    {
     "name": "stdout",
     "output_type": "stream",
     "text": [
      "[t-SNE] Computing 91 nearest neighbors...\n",
      "[t-SNE] Indexed 13076 samples in 0.001s...\n",
      "[t-SNE] Computed neighbors for 13076 samples in 0.375s...\n",
      "[t-SNE] Computed conditional probabilities for sample 1000 / 13076\n",
      "[t-SNE] Computed conditional probabilities for sample 2000 / 13076\n",
      "[t-SNE] Computed conditional probabilities for sample 3000 / 13076\n",
      "[t-SNE] Computed conditional probabilities for sample 4000 / 13076\n",
      "[t-SNE] Computed conditional probabilities for sample 5000 / 13076\n",
      "[t-SNE] Computed conditional probabilities for sample 6000 / 13076\n",
      "[t-SNE] Computed conditional probabilities for sample 7000 / 13076\n",
      "[t-SNE] Computed conditional probabilities for sample 8000 / 13076\n",
      "[t-SNE] Computed conditional probabilities for sample 9000 / 13076\n",
      "[t-SNE] Computed conditional probabilities for sample 10000 / 13076\n",
      "[t-SNE] Computed conditional probabilities for sample 11000 / 13076\n",
      "[t-SNE] Computed conditional probabilities for sample 12000 / 13076\n",
      "[t-SNE] Computed conditional probabilities for sample 13000 / 13076\n",
      "[t-SNE] Computed conditional probabilities for sample 13076 / 13076\n",
      "[t-SNE] Mean sigma: 1.211864\n",
      "[t-SNE] Computed conditional probabilities in 0.144s\n",
      "[t-SNE] Iteration 50: error = 98.8911285, gradient norm = 0.0000000 (50 iterations in 1.744s)\n",
      "[t-SNE] Iteration 50: gradient norm 0.000000. Finished.\n",
      "[t-SNE] KL divergence after 50 iterations with early exaggeration: 98.891129\n",
      "[t-SNE] Iteration 100: error = 5.7493467, gradient norm = 0.0173838 (50 iterations in 1.612s)\n",
      "[t-SNE] Iteration 150: error = 4.9385257, gradient norm = 0.0042914 (50 iterations in 1.507s)\n",
      "[t-SNE] Iteration 200: error = 4.8398623, gradient norm = 0.0048496 (50 iterations in 1.456s)\n",
      "[t-SNE] Iteration 250: error = 4.7631598, gradient norm = 0.0050551 (50 iterations in 1.461s)\n",
      "[t-SNE] Iteration 300: error = 4.7023726, gradient norm = 0.0051364 (50 iterations in 1.533s)\n",
      "[t-SNE] Iteration 350: error = 4.6538606, gradient norm = 0.0052022 (50 iterations in 1.459s)\n",
      "[t-SNE] Iteration 400: error = 4.6146307, gradient norm = 0.0050403 (50 iterations in 1.445s)\n",
      "[t-SNE] Iteration 450: error = 4.5821853, gradient norm = 0.0048756 (50 iterations in 1.422s)\n",
      "[t-SNE] Iteration 500: error = 4.5556231, gradient norm = 0.0047319 (50 iterations in 1.498s)\n",
      "[t-SNE] Iteration 550: error = 4.5332179, gradient norm = 0.0045177 (50 iterations in 1.461s)\n",
      "[t-SNE] Iteration 600: error = 4.5144863, gradient norm = 0.0042922 (50 iterations in 1.511s)\n",
      "[t-SNE] Iteration 650: error = 4.4987440, gradient norm = 0.0040036 (50 iterations in 1.496s)\n",
      "[t-SNE] Iteration 700: error = 4.4853125, gradient norm = 0.0038084 (50 iterations in 1.449s)\n",
      "[t-SNE] Iteration 750: error = 4.4738836, gradient norm = 0.0035878 (50 iterations in 1.491s)\n",
      "[t-SNE] Iteration 800: error = 4.4641838, gradient norm = 0.0032449 (50 iterations in 1.549s)\n",
      "[t-SNE] Iteration 850: error = 4.4560394, gradient norm = 0.0030537 (50 iterations in 1.490s)\n",
      "[t-SNE] Iteration 900: error = 4.4487252, gradient norm = 0.0029216 (50 iterations in 1.465s)\n",
      "[t-SNE] Iteration 950: error = 4.4431267, gradient norm = 0.0023592 (50 iterations in 1.529s)\n",
      "[t-SNE] Iteration 1000: error = 4.4381762, gradient norm = 0.0022969 (50 iterations in 1.490s)\n",
      "[t-SNE] KL divergence after 1000 iterations: 4.438176\n"
     ]
    }
   ],
   "source": [
    "tsne = TSNE(n_components=2, init='pca', random_state=42, verbose=2)\n",
    "reduced = tsne.fit_transform(embedding_matrix.cpu())"
   ]
  },
  {
   "cell_type": "code",
   "execution_count": 120,
   "metadata": {
    "ExecuteTime": {
     "end_time": "2023-11-21T20:27:00.759681Z",
     "start_time": "2023-11-21T20:27:00.756159Z"
    }
   },
   "outputs": [],
   "source": [
    "top_words = [a for a,_ in top_sorted_freq]"
   ]
  },
  {
   "cell_type": "code",
   "execution_count": 121,
   "metadata": {
    "ExecuteTime": {
     "end_time": "2023-11-21T20:27:00.762477Z",
     "start_time": "2023-11-21T20:27:00.758664Z"
    }
   },
   "outputs": [],
   "source": [
    "inds = [word2index[word] for word in top_words]\n",
    "x_coords = [coords[0] for coords in reduced[inds]]\n",
    "y_coords = [coords[1] for coords in reduced[inds]]"
   ]
  },
  {
   "cell_type": "code",
   "execution_count": 122,
   "metadata": {
    "ExecuteTime": {
     "end_time": "2023-11-21T20:27:01.453829Z",
     "start_time": "2023-11-21T20:27:00.763302Z"
    }
   },
   "outputs": [
    {
     "data": {
      "text/plain": "<Figure size 1500x1500 with 1 Axes>",
      "image/png": "[encoded data removed]"
     },
     "metadata": {},
     "output_type": "display_data"
    }
   ],
   "source": [
    "for (x, y, word) in zip(x_coords, y_coords, top_words):\n",
    "    plt.scatter(x, y, marker='.', color='blue')\n",
    "    plt.text(x+0.01, y+0.01, word, fontsize=9)\n",
    "plt.show()"
   ]
  },
  {
   "cell_type": "markdown",
   "source": [
    "# Оценка\n",
    "1. Вы добрались сюда и все работает, значит уже получили 7 баллов.\n",
    "2. 8 баллов - Взяли корпус для оценка качества эмбеддингов [здесь](https://rusvectores.org/static/testsets/ru_simlex965_tagged.tsv). Описание к нему [здесь](https://arxiv.org/pdf/1801.06407.pdf). Его английская версия для понимания, того что же это такое [тут](https://fh295.github.io/simlex.html). Если в кратце - он похож а гугл аналогии, просто иначе составлен. Определили качество своих эмбеддингов. Как качество измерить? Можете все значения отнормировать (привести к 1) и затем считать MSE между тем что у вас и что в оригинале.\n",
    "3. 9 баллов - Поставили эксперименты, поменяли любые параметры, хоть корпус увеличили или как то почистили. Показали метрики до и после. После должно быть лучше, иначе это все еще 8 баллов.\n",
    "4. 10 баллов - удивили своим подходом (или просто удивили) пока делили на 9 баллов"
   ],
   "metadata": {
    "collapsed": false
   }
  },
  {
   "cell_type": "code",
   "execution_count": 163,
   "outputs": [],
   "source": [
    "import pandas as pd"
   ],
   "metadata": {
    "collapsed": false,
    "ExecuteTime": {
     "end_time": "2023-11-21T20:37:32.153122Z",
     "start_time": "2023-11-21T20:37:32.136004Z"
    }
   }
  },
  {
   "cell_type": "code",
   "execution_count": 164,
   "outputs": [],
   "source": [
    "etalon = pd.read_csv('data.csv', sep='\\t')"
   ],
   "metadata": {
    "collapsed": false,
    "pycharm": {
     "name": "#%%\n"
    },
    "ExecuteTime": {
     "end_time": "2023-11-21T20:37:32.293931Z",
     "start_time": "2023-11-21T20:37:32.280270Z"
    }
   }
  },
  {
   "cell_type": "code",
   "execution_count": 165,
   "outputs": [],
   "source": [
    "etalon.columns = ['word1', 'word2', 'score']"
   ],
   "metadata": {
    "collapsed": false,
    "ExecuteTime": {
     "end_time": "2023-11-21T20:37:32.461461Z",
     "start_time": "2023-11-21T20:37:32.447547Z"
    }
   }
  },
  {
   "cell_type": "code",
   "execution_count": 166,
   "outputs": [
    {
     "data": {
      "text/plain": "(0.0, 10.0)"
     },
     "execution_count": 166,
     "metadata": {},
     "output_type": "execute_result"
    }
   ],
   "source": [
    "etalon.score.min(),etalon.score.max(),"
   ],
   "metadata": {
    "collapsed": false,
    "ExecuteTime": {
     "end_time": "2023-11-21T20:37:32.646965Z",
     "start_time": "2023-11-21T20:37:32.633644Z"
    }
   }
  },
  {
   "cell_type": "code",
   "execution_count": 167,
   "outputs": [],
   "source": [
    "### Косинусная близость принимает значения от -1 до 1\n",
    "etalon.score = (etalon.score / 10) * 2 - 1"
   ],
   "metadata": {
    "collapsed": false,
    "ExecuteTime": {
     "end_time": "2023-11-21T20:37:32.836202Z",
     "start_time": "2023-11-21T20:37:32.823691Z"
    }
   }
  },
  {
   "cell_type": "code",
   "execution_count": 168,
   "outputs": [
    {
     "data": {
      "text/plain": "(-1.0, 1.0)"
     },
     "execution_count": 168,
     "metadata": {},
     "output_type": "execute_result"
    }
   ],
   "source": [
    "etalon.score.min(),etalon.score.max(),"
   ],
   "metadata": {
    "collapsed": false,
    "ExecuteTime": {
     "end_time": "2023-11-21T20:37:37.981508Z",
     "start_time": "2023-11-21T20:37:37.909904Z"
    }
   }
  },
  {
   "cell_type": "code",
   "execution_count": 171,
   "outputs": [],
   "source": [
    "etalon.word1 = etalon.word1.apply(lambda x: x.split('_')[0])\n",
    "etalon.word2 = etalon.word2.apply(lambda x: x.split('_')[0])"
   ],
   "metadata": {
    "collapsed": false,
    "ExecuteTime": {
     "end_time": "2023-11-21T20:38:51.267480Z",
     "start_time": "2023-11-21T20:38:51.253094Z"
    }
   }
  },
  {
   "cell_type": "code",
   "execution_count": 172,
   "outputs": [
    {
     "data": {
      "text/plain": "          word1       word2  score\n0        авария    бедствие  0.230\n1        август       месяц -0.430\n2       авиация       полет  0.354\n3    автомобиль       гудок -0.630\n4    автомобиль  автострада -0.754\n..          ...         ...    ...\n960      яблоко      солнце -0.970\n961        ядро       пушка -0.446\n962        язык       горло -0.724\n963         ярд        дюйм -0.476\n964    яростный        злой  0.492\n\n[965 rows x 3 columns]",
      "text/html": "<div>\n<style scoped>\n    .dataframe tbody tr th:only-of-type {\n        vertical-align: middle;\n    }\n\n    .dataframe tbody tr th {\n        vertical-align: top;\n    }\n\n    .dataframe thead th {\n        text-align: right;\n    }\n</style>\n<table border=\"1\" class=\"dataframe\">\n  <thead>\n    <tr style=\"text-align: right;\">\n      <th></th>\n      <th>word1</th>\n      <th>word2</th>\n      <th>score</th>\n    </tr>\n  </thead>\n  <tbody>\n    <tr>\n      <th>0</th>\n      <td>авария</td>\n      <td>бедствие</td>\n      <td>0.230</td>\n    </tr>\n    <tr>\n      <th>1</th>\n      <td>август</td>\n      <td>месяц</td>\n      <td>-0.430</td>\n    </tr>\n    <tr>\n      <th>2</th>\n      <td>авиация</td>\n      <td>полет</td>\n      <td>0.354</td>\n    </tr>\n    <tr>\n      <th>3</th>\n      <td>автомобиль</td>\n      <td>гудок</td>\n      <td>-0.630</td>\n    </tr>\n    <tr>\n      <th>4</th>\n      <td>автомобиль</td>\n      <td>автострада</td>\n      <td>-0.754</td>\n    </tr>\n    <tr>\n      <th>...</th>\n      <td>...</td>\n      <td>...</td>\n      <td>...</td>\n    </tr>\n    <tr>\n      <th>960</th>\n      <td>яблоко</td>\n      <td>солнце</td>\n      <td>-0.970</td>\n    </tr>\n    <tr>\n      <th>961</th>\n      <td>ядро</td>\n      <td>пушка</td>\n      <td>-0.446</td>\n    </tr>\n    <tr>\n      <th>962</th>\n      <td>язык</td>\n      <td>горло</td>\n      <td>-0.724</td>\n    </tr>\n    <tr>\n      <th>963</th>\n      <td>ярд</td>\n      <td>дюйм</td>\n      <td>-0.476</td>\n    </tr>\n    <tr>\n      <th>964</th>\n      <td>яростный</td>\n      <td>злой</td>\n      <td>0.492</td>\n    </tr>\n  </tbody>\n</table>\n<p>965 rows × 3 columns</p>\n</div>"
     },
     "execution_count": 172,
     "metadata": {},
     "output_type": "execute_result"
    }
   ],
   "source": [
    "etalon"
   ],
   "metadata": {
    "collapsed": false,
    "ExecuteTime": {
     "end_time": "2023-11-21T20:38:54.745171Z",
     "start_time": "2023-11-21T20:38:54.685841Z"
    }
   }
  },
  {
   "cell_type": "code",
   "execution_count": 174,
   "outputs": [],
   "source": [
    "### Теперь посчитаем для каждой пары слов нашу оценку"
   ],
   "metadata": {
    "collapsed": false,
    "ExecuteTime": {
     "end_time": "2023-11-21T20:39:30.472534Z",
     "start_time": "2023-11-21T20:39:30.462831Z"
    }
   }
  },
  {
   "cell_type": "code",
   "execution_count": 188,
   "outputs": [],
   "source": [
    "etalon['our_score'] = etalon.apply(lambda x: cos_sim(embedding_matrix, word2index, x.word1, x.word2), axis=1)\n",
    "etalon['se'] = (etalon.our_score-etalon.score)**2\n",
    "etalon['ae'] = (etalon.our_score-etalon.score).abs()"
   ],
   "metadata": {
    "collapsed": false,
    "ExecuteTime": {
     "end_time": "2023-11-21T20:44:10.597304Z",
     "start_time": "2023-11-21T20:44:10.262696Z"
    }
   }
  },
  {
   "cell_type": "code",
   "execution_count": 189,
   "outputs": [],
   "source": [
    "mse = etalon.se.mean()\n",
    "mae = etalon.ae.mean()"
   ],
   "metadata": {
    "collapsed": false,
    "ExecuteTime": {
     "end_time": "2023-11-21T20:44:11.112769Z",
     "start_time": "2023-11-21T20:44:11.096709Z"
    }
   }
  },
  {
   "cell_type": "code",
   "execution_count": 190,
   "outputs": [
    {
     "data": {
      "text/plain": "0.4742470470950418"
     },
     "execution_count": 190,
     "metadata": {},
     "output_type": "execute_result"
    }
   ],
   "source": [
    "### Средняя квадратическая ошибка\n",
    "mse"
   ],
   "metadata": {
    "collapsed": false,
    "ExecuteTime": {
     "end_time": "2023-11-21T20:44:12.026956Z",
     "start_time": "2023-11-21T20:44:11.991610Z"
    }
   }
  },
  {
   "cell_type": "code",
   "execution_count": 191,
   "outputs": [
    {
     "data": {
      "text/plain": "0.5915139062402831"
     },
     "execution_count": 191,
     "metadata": {},
     "output_type": "execute_result"
    }
   ],
   "source": [
    "### Средняя квадратическая ошибка\n",
    "mae"
   ],
   "metadata": {
    "collapsed": false,
    "ExecuteTime": {
     "end_time": "2023-11-21T20:44:26.845096Z",
     "start_time": "2023-11-21T20:44:26.764833Z"
    }
   }
  },
  {
   "cell_type": "code",
   "execution_count": 83,
   "outputs": [],
   "source": [
    "### Попробуем улучшить качество за счет увеличения размера окна, кол-ва элементов в эмбеддинг слое"
   ],
   "metadata": {
    "collapsed": false,
    "ExecuteTime": {
     "end_time": "2023-11-21T21:19:02.155917Z",
     "start_time": "2023-11-21T21:19:02.142330Z"
    }
   }
  },
  {
   "cell_type": "code",
   "execution_count": 84,
   "outputs": [
    {
     "name": "stderr",
     "output_type": "stream",
     "text": [
      "100%|██████████| 100000/100000 [00:00<00:00, 130396.79it/s]\n"
     ]
    },
    {
     "data": {
      "text/plain": "SkipGram(\n  (in_embedding): Embedding(13076, 40)\n  (out_embedding): Linear(in_features=40, out_features=13076, bias=False)\n)"
     },
     "execution_count": 84,
     "metadata": {},
     "output_type": "execute_result"
    }
   ],
   "source": [
    "EMBEDDING_DIM = 40\n",
    "dataset = SkipgramDataset(corpus, word2index, window=3)\n",
    "dataset_loader = DataLoader(dataset, shuffle=True, batch_size=BATCH_SIZE)\n",
    "model = SkipGram(vocab_size=len(word2index), embedding_dim=EMBEDDING_DIM)\n",
    "optimizer = torch.optim.Adam(params=model.parameters(), lr=0.0001)\n",
    "scheduler = torch.optim.lr_scheduler.ReduceLROnPlateau(optimizer, 'min', min_lr=0.00001, factor=0.5, verbose=True, patience=100000)\n",
    "# aka loss function\n",
    "criterion = torch.nn.CrossEntropyLoss()\n",
    "device = 'cuda' if torch.cuda.is_available() else 'mps' if torch.backends.mps.is_available() else 'cpu'\n",
    "epochs = 5\n",
    "losses = []\n",
    "model.to(device)"
   ],
   "metadata": {
    "collapsed": false,
    "ExecuteTime": {
     "end_time": "2023-11-21T21:19:04.114327Z",
     "start_time": "2023-11-21T21:19:03.213578Z"
    }
   }
  },
  {
   "cell_type": "code",
   "execution_count": 85,
   "outputs": [
    {
     "name": "stderr",
     "output_type": "stream",
     "text": [
      "Epoch 1: 100%|██████████| 4174732/4174732 [01:08<00:00, 61050.49it/s, loss=8.39]\n",
      "Epoch 2: 100%|██████████| 4174732/4174732 [01:07<00:00, 62298.77it/s, loss=7.52]\n",
      "Epoch 3: 100%|██████████| 4174732/4174732 [01:12<00:00, 57687.20it/s, loss=7.28]\n",
      "Epoch 4: 100%|██████████| 4174732/4174732 [01:09<00:00, 59661.04it/s, loss=7.17]\n",
      "Epoch 5: 100%|██████████| 4174732/4174732 [01:10<00:00, 59249.51it/s, loss=7.1] \n"
     ]
    }
   ],
   "source": [
    "for n_epoch in range(epochs):\n",
    "    try:\n",
    "        progress_bar = tqdm(total=len(dataset_loader.dataset), desc='Epoch {}'.format(n_epoch + 1))\n",
    "        for x, y in dataset_loader:\n",
    "            optimizer.zero_grad()\n",
    "\n",
    "            x = x.to(device)\n",
    "            y = y.to(device)\n",
    "            prediction = model(x)\n",
    "\n",
    "\n",
    "            loss = criterion(prediction, y)\n",
    "            loss.backward()\n",
    "            optimizer.step()\n",
    "            scheduler.step(loss)\n",
    "            # CODE\n",
    "\n",
    "            losses.append(loss.cpu().detach().numpy().item())\n",
    "\n",
    "            progress_bar.set_postfix(loss=np.mean(losses[-100:]))\n",
    "\n",
    "            progress_bar.update(x.shape[0])\n",
    "\n",
    "        progress_bar.close()\n",
    "\n",
    "    except KeyboardInterrupt:\n",
    "\n",
    "        progress_bar.close()\n",
    "        break"
   ],
   "metadata": {
    "collapsed": false,
    "ExecuteTime": {
     "end_time": "2023-11-21T21:24:53.383926Z",
     "start_time": "2023-11-21T21:19:05.174737Z"
    }
   }
  },
  {
   "cell_type": "code",
   "execution_count": 86,
   "outputs": [],
   "source": [
    "embedding_matrix = model.in_embedding.weight.detach()\n",
    "def cos_sim(embedding_matrix, token2id, word1, word2):\n",
    "\n",
    "    if word1 in token2id.keys() and word2 in token2id.keys():\n",
    "        i1 = token2id[word1]\n",
    "        i2 = token2id[word2]\n",
    "    else:\n",
    "        return 0\n",
    "\n",
    "    v1, v2 = embedding_matrix[i1], embedding_matrix[i2]\n",
    "\n",
    "    v1_n = v1.div(v1.norm(keepdim=True))\n",
    "    v2_n = v2.div(v2.norm(keepdim=True))\n",
    "\n",
    "    similarity = torch.dot(v1_n, v2_n).item()\n",
    "\n",
    "    return similarity"
   ],
   "metadata": {
    "collapsed": false,
    "ExecuteTime": {
     "end_time": "2023-11-21T21:24:53.386650Z",
     "start_time": "2023-11-21T21:24:53.381690Z"
    }
   }
  },
  {
   "cell_type": "code",
   "execution_count": 87,
   "outputs": [],
   "source": [
    "import pandas as pd\n",
    "etalon = pd.read_csv('data.csv', sep='\\t')\n",
    "etalon.columns = ['word1', 'word2', 'score']\n",
    "etalon.score = (etalon.score / 10) * 2 - 1\n",
    "etalon.word1 = etalon.word1.apply(lambda x: x.split('_')[0])\n",
    "etalon.word2 = etalon.word2.apply(lambda x: x.split('_')[0])\n",
    "etalon['our_score'] = etalon.apply(lambda x: cos_sim(embedding_matrix, word2index, x.word1, x.word2), axis=1)\n",
    "etalon['se'] = (etalon.our_score-etalon.score)**2\n",
    "etalon['ae'] = (etalon.our_score-etalon.score).abs()\n",
    "mse = etalon.se.mean()\n",
    "mae = etalon.ae.mean()"
   ],
   "metadata": {
    "collapsed": false,
    "ExecuteTime": {
     "end_time": "2023-11-21T21:24:53.661880Z",
     "start_time": "2023-11-21T21:24:53.387968Z"
    }
   }
  },
  {
   "cell_type": "code",
   "execution_count": 88,
   "outputs": [
    {
     "data": {
      "text/plain": "0.44375619556429236"
     },
     "execution_count": 88,
     "metadata": {},
     "output_type": "execute_result"
    }
   ],
   "source": [
    "### Средняя квадратическая ошибка\n",
    "mse"
   ],
   "metadata": {
    "collapsed": false,
    "ExecuteTime": {
     "end_time": "2023-11-21T21:24:53.667568Z",
     "start_time": "2023-11-21T21:24:53.663465Z"
    }
   }
  },
  {
   "cell_type": "code",
   "execution_count": 89,
   "outputs": [
    {
     "data": {
      "text/plain": "0.5782029651675947"
     },
     "execution_count": 89,
     "metadata": {},
     "output_type": "execute_result"
    }
   ],
   "source": [
    "### Средняя квадратическая ошибка\n",
    "mae"
   ],
   "metadata": {
    "collapsed": false,
    "ExecuteTime": {
     "end_time": "2023-11-21T21:24:53.687261Z",
     "start_time": "2023-11-21T21:24:53.666635Z"
    }
   }
  },
  {
   "cell_type": "code",
   "execution_count": 82,
   "outputs": [],
   "source": [
    "### Скор улучшился"
   ],
   "metadata": {
    "collapsed": false,
    "ExecuteTime": {
     "end_time": "2023-11-21T21:15:19.969670Z",
     "start_time": "2023-11-21T21:15:19.964512Z"
    }
   }
  },
  {
   "cell_type": "code",
   "execution_count": null,
   "outputs": [],
   "source": [],
   "metadata": {
    "collapsed": false
   }
  }
 ],
 "metadata": {
  "kernelspec": {
   "display_name": "Python 3",
   "language": "python",
   "name": "python3"
  },
  "language_info": {
   "codemirror_mode": {
    "name": "ipython",
    "version": 3
   },
   "file_extension": ".py",
   "mimetype": "text/x-python",
   "name": "python",
   "nbconvert_exporter": "python",
   "pygments_lexer": "ipython3",
   "version": "3.6.8"
  }
 },
 "nbformat": 4,
 "nbformat_minor": 2
}
